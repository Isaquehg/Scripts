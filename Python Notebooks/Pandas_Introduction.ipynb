{
  "nbformat": 4,
  "nbformat_minor": 0,
  "metadata": {
    "colab": {
      "name": "Pandas Introduction.ipynb",
      "provenance": [],
      "collapsed_sections": []
    },
    "kernelspec": {
      "name": "python3",
      "display_name": "Python 3"
    },
    "language_info": {
      "name": "python"
    }
  },
  "cells": [
    {
      "cell_type": "markdown",
      "metadata": {
        "id": "7CRuvG_9a9PC"
      },
      "source": [
        "#Main Methods\n",
        "- .read_excel('path')\n",
        "- .DataFrame(file)\n",
        "- .head() - First Rows\n",
        "- .shape - The spreeedsheet size\n",
        "- .describe() - General analysis\n",
        "- .loc[rows, columns] - Locates a specific row\n",
        "- .append() - Incrementing the DF\n",
        "- .drop('column name', axis = 0/1) - Removes a row/column\n",
        "- .fillna(value, axis = 0/1) - fills with a specific value\n",
        "- .ffill() - Fills the empty values with the last/first one\n",
        "- .value_counts() - conunts the values by name\n",
        "- .groupby('column/row').operation(eg.: sum()/mean()) - groups by a name and does some operation with the numeric values"
      ]
    },
    {
      "cell_type": "markdown",
      "metadata": {
        "id": "dD55Z3XpxojE"
      },
      "source": [
        "#Importing Pandas\n"
      ]
    },
    {
      "cell_type": "code",
      "metadata": {
        "id": "EV5cRrJ-u6ST"
      },
      "source": [
        "import pandas as pd\n",
        "pd.__version__\n",
        "import numpy as np"
      ],
      "execution_count": null,
      "outputs": []
    },
    {
      "cell_type": "markdown",
      "metadata": {
        "id": "9M6Fuj73xvnT"
      },
      "source": [
        "#Converting dictionary to a DataFrame (Array)"
      ]
    },
    {
      "cell_type": "code",
      "metadata": {
        "colab": {
          "base_uri": "https://localhost:8080/",
          "height": 112
        },
        "id": "yGT3vTLvwoud",
        "outputId": "5a6a6d70-9e87-477c-e885-028530ae7359"
      },
      "source": [
        "sales1 = {'date': ['20/07/2021', '19/02/2021'], 'value': [1520, 780], 'products': ['chocolate', 'fruits'], 'amount': [120, 231]}\n",
        "sales1_df = pd.DataFrame(sales1)\n",
        "display(sales1_df)"
      ],
      "execution_count": null,
      "outputs": [
        {
          "output_type": "display_data",
          "data": {
            "text/html": [
              "<div>\n",
              "<style scoped>\n",
              "    .dataframe tbody tr th:only-of-type {\n",
              "        vertical-align: middle;\n",
              "    }\n",
              "\n",
              "    .dataframe tbody tr th {\n",
              "        vertical-align: top;\n",
              "    }\n",
              "\n",
              "    .dataframe thead th {\n",
              "        text-align: right;\n",
              "    }\n",
              "</style>\n",
              "<table border=\"1\" class=\"dataframe\">\n",
              "  <thead>\n",
              "    <tr style=\"text-align: right;\">\n",
              "      <th></th>\n",
              "      <th>date</th>\n",
              "      <th>value</th>\n",
              "      <th>products</th>\n",
              "      <th>amount</th>\n",
              "    </tr>\n",
              "  </thead>\n",
              "  <tbody>\n",
              "    <tr>\n",
              "      <th>0</th>\n",
              "      <td>20/07/2021</td>\n",
              "      <td>1520</td>\n",
              "      <td>chocolate</td>\n",
              "      <td>120</td>\n",
              "    </tr>\n",
              "    <tr>\n",
              "      <th>1</th>\n",
              "      <td>19/02/2021</td>\n",
              "      <td>780</td>\n",
              "      <td>fruits</td>\n",
              "      <td>231</td>\n",
              "    </tr>\n",
              "  </tbody>\n",
              "</table>\n",
              "</div>"
            ],
            "text/plain": [
              "         date  value   products  amount\n",
              "0  20/07/2021   1520  chocolate     120\n",
              "1  19/02/2021    780     fruits     231"
            ]
          },
          "metadata": {
            "tags": []
          }
        }
      ]
    },
    {
      "cell_type": "markdown",
      "metadata": {
        "id": "t8ofUpcRYfqR"
      },
      "source": [
        "#Reading Excel Files"
      ]
    },
    {
      "cell_type": "code",
      "metadata": {
        "colab": {
          "base_uri": "https://localhost:8080/",
          "height": 552
        },
        "id": "W2SUi0d7yhtg",
        "outputId": "dac1a7a2-f917-4e91-9332-c2d654037dcb"
      },
      "source": [
        "sales_df = pd.read_excel('/Vendas.xlsx')\n",
        "display(sales_df.head(10))"
      ],
      "execution_count": null,
      "outputs": [
        {
          "output_type": "display_data",
          "data": {
            "text/html": [
              "<div>\n",
              "<style scoped>\n",
              "    .dataframe tbody tr th:only-of-type {\n",
              "        vertical-align: middle;\n",
              "    }\n",
              "\n",
              "    .dataframe tbody tr th {\n",
              "        vertical-align: top;\n",
              "    }\n",
              "\n",
              "    .dataframe thead th {\n",
              "        text-align: right;\n",
              "    }\n",
              "</style>\n",
              "<table border=\"1\" class=\"dataframe\">\n",
              "  <thead>\n",
              "    <tr style=\"text-align: right;\">\n",
              "      <th></th>\n",
              "      <th>Código Venda</th>\n",
              "      <th>Data</th>\n",
              "      <th>ID Loja</th>\n",
              "      <th>Produto</th>\n",
              "      <th>Quantidade</th>\n",
              "      <th>Valor Unitário</th>\n",
              "      <th>Valor Final</th>\n",
              "    </tr>\n",
              "  </thead>\n",
              "  <tbody>\n",
              "    <tr>\n",
              "      <th>0</th>\n",
              "      <td>1</td>\n",
              "      <td>2019-01-01</td>\n",
              "      <td>Iguatemi Esplanada</td>\n",
              "      <td>Sapato Estampa</td>\n",
              "      <td>1</td>\n",
              "      <td>358</td>\n",
              "      <td>358</td>\n",
              "    </tr>\n",
              "    <tr>\n",
              "      <th>1</th>\n",
              "      <td>1</td>\n",
              "      <td>2019-01-01</td>\n",
              "      <td>Iguatemi Esplanada</td>\n",
              "      <td>Camiseta</td>\n",
              "      <td>2</td>\n",
              "      <td>180</td>\n",
              "      <td>360</td>\n",
              "    </tr>\n",
              "    <tr>\n",
              "      <th>2</th>\n",
              "      <td>1</td>\n",
              "      <td>2019-01-01</td>\n",
              "      <td>Iguatemi Esplanada</td>\n",
              "      <td>Sapato Xadrez</td>\n",
              "      <td>1</td>\n",
              "      <td>368</td>\n",
              "      <td>368</td>\n",
              "    </tr>\n",
              "    <tr>\n",
              "      <th>3</th>\n",
              "      <td>2</td>\n",
              "      <td>2019-01-02</td>\n",
              "      <td>Norte Shopping</td>\n",
              "      <td>Relógio</td>\n",
              "      <td>3</td>\n",
              "      <td>200</td>\n",
              "      <td>600</td>\n",
              "    </tr>\n",
              "    <tr>\n",
              "      <th>4</th>\n",
              "      <td>2</td>\n",
              "      <td>2019-01-02</td>\n",
              "      <td>Norte Shopping</td>\n",
              "      <td>Chinelo Liso</td>\n",
              "      <td>1</td>\n",
              "      <td>71</td>\n",
              "      <td>71</td>\n",
              "    </tr>\n",
              "    <tr>\n",
              "      <th>5</th>\n",
              "      <td>3</td>\n",
              "      <td>2019-01-02</td>\n",
              "      <td>Rio Mar Shopping Fortaleza</td>\n",
              "      <td>Cinto Linho</td>\n",
              "      <td>1</td>\n",
              "      <td>248</td>\n",
              "      <td>248</td>\n",
              "    </tr>\n",
              "    <tr>\n",
              "      <th>6</th>\n",
              "      <td>5</td>\n",
              "      <td>2019-01-02</td>\n",
              "      <td>Shopping Barra</td>\n",
              "      <td>Calça</td>\n",
              "      <td>1</td>\n",
              "      <td>170</td>\n",
              "      <td>170</td>\n",
              "    </tr>\n",
              "    <tr>\n",
              "      <th>7</th>\n",
              "      <td>6</td>\n",
              "      <td>2019-01-02</td>\n",
              "      <td>Shopping Ibirapuera</td>\n",
              "      <td>Polo Listrado</td>\n",
              "      <td>4</td>\n",
              "      <td>149</td>\n",
              "      <td>596</td>\n",
              "    </tr>\n",
              "    <tr>\n",
              "      <th>8</th>\n",
              "      <td>7</td>\n",
              "      <td>2019-01-02</td>\n",
              "      <td>Norte Shopping</td>\n",
              "      <td>Camisa Gola V Listrado</td>\n",
              "      <td>1</td>\n",
              "      <td>116</td>\n",
              "      <td>116</td>\n",
              "    </tr>\n",
              "    <tr>\n",
              "      <th>9</th>\n",
              "      <td>7</td>\n",
              "      <td>2019-01-02</td>\n",
              "      <td>Norte Shopping</td>\n",
              "      <td>Camisa Liso</td>\n",
              "      <td>1</td>\n",
              "      <td>105</td>\n",
              "      <td>105</td>\n",
              "    </tr>\n",
              "  </tbody>\n",
              "</table>\n",
              "</div>"
            ],
            "text/plain": [
              "   Código Venda       Data  ... Valor Unitário Valor Final\n",
              "0             1 2019-01-01  ...            358         358\n",
              "1             1 2019-01-01  ...            180         360\n",
              "2             1 2019-01-01  ...            368         368\n",
              "3             2 2019-01-02  ...            200         600\n",
              "4             2 2019-01-02  ...             71          71\n",
              "5             3 2019-01-02  ...            248         248\n",
              "6             5 2019-01-02  ...            170         170\n",
              "7             6 2019-01-02  ...            149         596\n",
              "8             7 2019-01-02  ...            116         116\n",
              "9             7 2019-01-02  ...            105         105\n",
              "\n",
              "[10 rows x 7 columns]"
            ]
          },
          "metadata": {
            "tags": []
          }
        }
      ]
    },
    {
      "cell_type": "code",
      "metadata": {
        "colab": {
          "base_uri": "https://localhost:8080/"
        },
        "id": "QVgjVSgxbr0Y",
        "outputId": "1e820ca2-4940-4962-f817-833bcfd146ea"
      },
      "source": [
        "print(sales_df.shape)#Rows and collumns size"
      ],
      "execution_count": null,
      "outputs": [
        {
          "output_type": "stream",
          "text": [
            "(93910, 7)\n"
          ],
          "name": "stdout"
        }
      ]
    },
    {
      "cell_type": "markdown",
      "metadata": {
        "id": "LBOYDJyhcyrJ"
      },
      "source": [
        "#.Describe()\n",
        "- count: Number of elements by rows\n",
        "- mean: general avarage\n",
        "- std: standard deviation"
      ]
    },
    {
      "cell_type": "code",
      "metadata": {
        "colab": {
          "base_uri": "https://localhost:8080/",
          "height": 299
        },
        "id": "6WukaGX3cfJY",
        "outputId": "8584f332-7bf9-4c22-ea15-7a6b0aae6820"
      },
      "source": [
        "display(sales_df.describe())#Dataframe analysis"
      ],
      "execution_count": null,
      "outputs": [
        {
          "output_type": "display_data",
          "data": {
            "text/html": [
              "<div>\n",
              "<style scoped>\n",
              "    .dataframe tbody tr th:only-of-type {\n",
              "        vertical-align: middle;\n",
              "    }\n",
              "\n",
              "    .dataframe tbody tr th {\n",
              "        vertical-align: top;\n",
              "    }\n",
              "\n",
              "    .dataframe thead th {\n",
              "        text-align: right;\n",
              "    }\n",
              "</style>\n",
              "<table border=\"1\" class=\"dataframe\">\n",
              "  <thead>\n",
              "    <tr style=\"text-align: right;\">\n",
              "      <th></th>\n",
              "      <th>Código Venda</th>\n",
              "      <th>Quantidade</th>\n",
              "      <th>Valor Unitário</th>\n",
              "      <th>Valor Final</th>\n",
              "    </tr>\n",
              "  </thead>\n",
              "  <tbody>\n",
              "    <tr>\n",
              "      <th>count</th>\n",
              "      <td>93910.000000</td>\n",
              "      <td>93910.000000</td>\n",
              "      <td>93910.000000</td>\n",
              "      <td>93910.000000</td>\n",
              "    </tr>\n",
              "    <tr>\n",
              "      <th>mean</th>\n",
              "      <td>32464.762155</td>\n",
              "      <td>2.166553</td>\n",
              "      <td>191.725886</td>\n",
              "      <td>414.862656</td>\n",
              "    </tr>\n",
              "    <tr>\n",
              "      <th>std</th>\n",
              "      <td>18809.007093</td>\n",
              "      <td>1.258732</td>\n",
              "      <td>145.215519</td>\n",
              "      <td>434.846228</td>\n",
              "    </tr>\n",
              "    <tr>\n",
              "      <th>min</th>\n",
              "      <td>1.000000</td>\n",
              "      <td>1.000000</td>\n",
              "      <td>30.000000</td>\n",
              "      <td>30.000000</td>\n",
              "    </tr>\n",
              "    <tr>\n",
              "      <th>25%</th>\n",
              "      <td>16204.000000</td>\n",
              "      <td>1.000000</td>\n",
              "      <td>100.000000</td>\n",
              "      <td>156.000000</td>\n",
              "    </tr>\n",
              "    <tr>\n",
              "      <th>50%</th>\n",
              "      <td>32367.000000</td>\n",
              "      <td>2.000000</td>\n",
              "      <td>155.000000</td>\n",
              "      <td>274.000000</td>\n",
              "    </tr>\n",
              "    <tr>\n",
              "      <th>75%</th>\n",
              "      <td>48793.750000</td>\n",
              "      <td>3.000000</td>\n",
              "      <td>248.000000</td>\n",
              "      <td>524.000000</td>\n",
              "    </tr>\n",
              "    <tr>\n",
              "      <th>max</th>\n",
              "      <td>65014.000000</td>\n",
              "      <td>5.000000</td>\n",
              "      <td>750.000000</td>\n",
              "      <td>3750.000000</td>\n",
              "    </tr>\n",
              "  </tbody>\n",
              "</table>\n",
              "</div>"
            ],
            "text/plain": [
              "       Código Venda    Quantidade  Valor Unitário   Valor Final\n",
              "count  93910.000000  93910.000000    93910.000000  93910.000000\n",
              "mean   32464.762155      2.166553      191.725886    414.862656\n",
              "std    18809.007093      1.258732      145.215519    434.846228\n",
              "min        1.000000      1.000000       30.000000     30.000000\n",
              "25%    16204.000000      1.000000      100.000000    156.000000\n",
              "50%    32367.000000      2.000000      155.000000    274.000000\n",
              "75%    48793.750000      3.000000      248.000000    524.000000\n",
              "max    65014.000000      5.000000      750.000000   3750.000000"
            ]
          },
          "metadata": {
            "tags": []
          }
        }
      ]
    },
    {
      "cell_type": "code",
      "metadata": {
        "colab": {
          "base_uri": "https://localhost:8080/",
          "height": 235
        },
        "id": "j_f3PnGteggn",
        "outputId": "0f51eb52-5f57-4a2d-e9fb-d88becfe639d"
      },
      "source": [
        "#Reading a single row will create a SERIES\n",
        "#If we read 2 or more rows, it´s gonna be a Dataframe like: \n",
        "#sales_df[['Valor final', 'ID loja']] USING 2 [][]\n",
        "final_value = sales_df['Valor Final']\n",
        "display(final_value)"
      ],
      "execution_count": null,
      "outputs": [
        {
          "output_type": "display_data",
          "data": {
            "text/plain": [
              "0         358\n",
              "1         360\n",
              "2         368\n",
              "3         600\n",
              "4          71\n",
              "         ... \n",
              "93905     566\n",
              "93906     158\n",
              "93907     201\n",
              "93908     570\n",
              "93909    1036\n",
              "Name: Valor Final, Length: 93910, dtype: int64"
            ]
          },
          "metadata": {
            "tags": []
          }
        }
      ]
    },
    {
      "cell_type": "code",
      "metadata": {
        "colab": {
          "base_uri": "https://localhost:8080/",
          "height": 143
        },
        "id": "3FzD28E2fE7S",
        "outputId": "77239087-e0ae-4e6c-c559-b445dfae504e"
      },
      "source": [
        "#LOC\n",
        "#Grabing a single line will create a serie\n",
        "#Grabing one or more\n",
        "display(sales_df.loc[1:3])"
      ],
      "execution_count": null,
      "outputs": [
        {
          "output_type": "display_data",
          "data": {
            "text/html": [
              "<div>\n",
              "<style scoped>\n",
              "    .dataframe tbody tr th:only-of-type {\n",
              "        vertical-align: middle;\n",
              "    }\n",
              "\n",
              "    .dataframe tbody tr th {\n",
              "        vertical-align: top;\n",
              "    }\n",
              "\n",
              "    .dataframe thead th {\n",
              "        text-align: right;\n",
              "    }\n",
              "</style>\n",
              "<table border=\"1\" class=\"dataframe\">\n",
              "  <thead>\n",
              "    <tr style=\"text-align: right;\">\n",
              "      <th></th>\n",
              "      <th>Código Venda</th>\n",
              "      <th>Data</th>\n",
              "      <th>ID Loja</th>\n",
              "      <th>Produto</th>\n",
              "      <th>Quantidade</th>\n",
              "      <th>Valor Unitário</th>\n",
              "      <th>Valor Final</th>\n",
              "    </tr>\n",
              "  </thead>\n",
              "  <tbody>\n",
              "    <tr>\n",
              "      <th>1</th>\n",
              "      <td>1</td>\n",
              "      <td>2019-01-01</td>\n",
              "      <td>Iguatemi Esplanada</td>\n",
              "      <td>Camiseta</td>\n",
              "      <td>2</td>\n",
              "      <td>180</td>\n",
              "      <td>360</td>\n",
              "    </tr>\n",
              "    <tr>\n",
              "      <th>2</th>\n",
              "      <td>1</td>\n",
              "      <td>2019-01-01</td>\n",
              "      <td>Iguatemi Esplanada</td>\n",
              "      <td>Sapato Xadrez</td>\n",
              "      <td>1</td>\n",
              "      <td>368</td>\n",
              "      <td>368</td>\n",
              "    </tr>\n",
              "    <tr>\n",
              "      <th>3</th>\n",
              "      <td>2</td>\n",
              "      <td>2019-01-02</td>\n",
              "      <td>Norte Shopping</td>\n",
              "      <td>Relógio</td>\n",
              "      <td>3</td>\n",
              "      <td>200</td>\n",
              "      <td>600</td>\n",
              "    </tr>\n",
              "  </tbody>\n",
              "</table>\n",
              "</div>"
            ],
            "text/plain": [
              "   Código Venda       Data  ... Valor Unitário Valor Final\n",
              "1             1 2019-01-01  ...            180         360\n",
              "2             1 2019-01-01  ...            368         368\n",
              "3             2 2019-01-02  ...            200         600\n",
              "\n",
              "[3 rows x 7 columns]"
            ]
          },
          "metadata": {
            "tags": []
          }
        }
      ]
    },
    {
      "cell_type": "markdown",
      "metadata": {
        "id": "0DoF4xMoh3rs"
      },
      "source": [
        "#Filtering by a ID"
      ]
    },
    {
      "cell_type": "code",
      "metadata": {
        "colab": {
          "base_uri": "https://localhost:8080/",
          "height": 612
        },
        "id": "a1pdZsV9h2q4",
        "outputId": "cd3be817-2379-423f-9e0d-97e36d6c61d4"
      },
      "source": [
        "Iguatemi_sales_df = sales_df.loc[sales_df['ID Loja'] == 'Iguatemi Esplanada']\n",
        "display(Iguatemi_sales_df)"
      ],
      "execution_count": null,
      "outputs": [
        {
          "output_type": "display_data",
          "data": {
            "text/html": [
              "<div>\n",
              "<style scoped>\n",
              "    .dataframe tbody tr th:only-of-type {\n",
              "        vertical-align: middle;\n",
              "    }\n",
              "\n",
              "    .dataframe tbody tr th {\n",
              "        vertical-align: top;\n",
              "    }\n",
              "\n",
              "    .dataframe thead th {\n",
              "        text-align: right;\n",
              "    }\n",
              "</style>\n",
              "<table border=\"1\" class=\"dataframe\">\n",
              "  <thead>\n",
              "    <tr style=\"text-align: right;\">\n",
              "      <th></th>\n",
              "      <th>Código Venda</th>\n",
              "      <th>Data</th>\n",
              "      <th>ID Loja</th>\n",
              "      <th>Produto</th>\n",
              "      <th>Quantidade</th>\n",
              "      <th>Valor Unitário</th>\n",
              "      <th>Valor Final</th>\n",
              "    </tr>\n",
              "  </thead>\n",
              "  <tbody>\n",
              "    <tr>\n",
              "      <th>0</th>\n",
              "      <td>1</td>\n",
              "      <td>2019-01-01</td>\n",
              "      <td>Iguatemi Esplanada</td>\n",
              "      <td>Sapato Estampa</td>\n",
              "      <td>1</td>\n",
              "      <td>358</td>\n",
              "      <td>358</td>\n",
              "    </tr>\n",
              "    <tr>\n",
              "      <th>1</th>\n",
              "      <td>1</td>\n",
              "      <td>2019-01-01</td>\n",
              "      <td>Iguatemi Esplanada</td>\n",
              "      <td>Camiseta</td>\n",
              "      <td>2</td>\n",
              "      <td>180</td>\n",
              "      <td>360</td>\n",
              "    </tr>\n",
              "    <tr>\n",
              "      <th>2</th>\n",
              "      <td>1</td>\n",
              "      <td>2019-01-01</td>\n",
              "      <td>Iguatemi Esplanada</td>\n",
              "      <td>Sapato Xadrez</td>\n",
              "      <td>1</td>\n",
              "      <td>368</td>\n",
              "      <td>368</td>\n",
              "    </tr>\n",
              "    <tr>\n",
              "      <th>26</th>\n",
              "      <td>21</td>\n",
              "      <td>2019-01-02</td>\n",
              "      <td>Iguatemi Esplanada</td>\n",
              "      <td>Camisa Gola V Listrado</td>\n",
              "      <td>2</td>\n",
              "      <td>116</td>\n",
              "      <td>232</td>\n",
              "    </tr>\n",
              "    <tr>\n",
              "      <th>44</th>\n",
              "      <td>34</td>\n",
              "      <td>2019-01-02</td>\n",
              "      <td>Iguatemi Esplanada</td>\n",
              "      <td>Sapato Listrado</td>\n",
              "      <td>1</td>\n",
              "      <td>363</td>\n",
              "      <td>363</td>\n",
              "    </tr>\n",
              "    <tr>\n",
              "      <th>...</th>\n",
              "      <td>...</td>\n",
              "      <td>...</td>\n",
              "      <td>...</td>\n",
              "      <td>...</td>\n",
              "      <td>...</td>\n",
              "      <td>...</td>\n",
              "      <td>...</td>\n",
              "    </tr>\n",
              "    <tr>\n",
              "      <th>93745</th>\n",
              "      <td>64908</td>\n",
              "      <td>2019-11-30</td>\n",
              "      <td>Iguatemi Esplanada</td>\n",
              "      <td>Meia</td>\n",
              "      <td>4</td>\n",
              "      <td>30</td>\n",
              "      <td>120</td>\n",
              "    </tr>\n",
              "    <tr>\n",
              "      <th>93776</th>\n",
              "      <td>64928</td>\n",
              "      <td>2019-11-30</td>\n",
              "      <td>Iguatemi Esplanada</td>\n",
              "      <td>Tênis Xadrez</td>\n",
              "      <td>3</td>\n",
              "      <td>259</td>\n",
              "      <td>777</td>\n",
              "    </tr>\n",
              "    <tr>\n",
              "      <th>93880</th>\n",
              "      <td>64993</td>\n",
              "      <td>2019-11-30</td>\n",
              "      <td>Iguatemi Esplanada</td>\n",
              "      <td>Bermuda Liso</td>\n",
              "      <td>2</td>\n",
              "      <td>157</td>\n",
              "      <td>314</td>\n",
              "    </tr>\n",
              "    <tr>\n",
              "      <th>93881</th>\n",
              "      <td>64993</td>\n",
              "      <td>2019-11-30</td>\n",
              "      <td>Iguatemi Esplanada</td>\n",
              "      <td>Chinelo Xadrez</td>\n",
              "      <td>1</td>\n",
              "      <td>66</td>\n",
              "      <td>66</td>\n",
              "    </tr>\n",
              "    <tr>\n",
              "      <th>93882</th>\n",
              "      <td>64993</td>\n",
              "      <td>2019-11-30</td>\n",
              "      <td>Iguatemi Esplanada</td>\n",
              "      <td>Cinto Liso</td>\n",
              "      <td>1</td>\n",
              "      <td>209</td>\n",
              "      <td>209</td>\n",
              "    </tr>\n",
              "  </tbody>\n",
              "</table>\n",
              "<p>3722 rows × 7 columns</p>\n",
              "</div>"
            ],
            "text/plain": [
              "       Código Venda       Data  ... Valor Unitário Valor Final\n",
              "0                 1 2019-01-01  ...            358         358\n",
              "1                 1 2019-01-01  ...            180         360\n",
              "2                 1 2019-01-01  ...            368         368\n",
              "26               21 2019-01-02  ...            116         232\n",
              "44               34 2019-01-02  ...            363         363\n",
              "...             ...        ...  ...            ...         ...\n",
              "93745         64908 2019-11-30  ...             30         120\n",
              "93776         64928 2019-11-30  ...            259         777\n",
              "93880         64993 2019-11-30  ...            157         314\n",
              "93881         64993 2019-11-30  ...             66          66\n",
              "93882         64993 2019-11-30  ...            209         209\n",
              "\n",
              "[3722 rows x 7 columns]"
            ]
          },
          "metadata": {
            "tags": []
          }
        }
      ]
    },
    {
      "cell_type": "markdown",
      "metadata": {
        "id": "LJL9ES9ki20P"
      },
      "source": [
        "#Locating specific columns for specific IDs"
      ]
    },
    {
      "cell_type": "code",
      "metadata": {
        "colab": {
          "base_uri": "https://localhost:8080/",
          "height": 422
        },
        "id": "YxUsvyLzi2EM",
        "outputId": "f6cb592d-4f85-4d4e-f638-ef6e03c1120d"
      },
      "source": [
        "#Grabing some columns for iguatemi shopping\n",
        "iguatemi_values = sales_df.loc[sales_df['ID Loja'] == 'Iguatemi Esplanada', ['Produto', 'Valor Unitário', 'Valor Final']]\n",
        "display(iguatemi_values)"
      ],
      "execution_count": null,
      "outputs": [
        {
          "output_type": "display_data",
          "data": {
            "text/html": [
              "<div>\n",
              "<style scoped>\n",
              "    .dataframe tbody tr th:only-of-type {\n",
              "        vertical-align: middle;\n",
              "    }\n",
              "\n",
              "    .dataframe tbody tr th {\n",
              "        vertical-align: top;\n",
              "    }\n",
              "\n",
              "    .dataframe thead th {\n",
              "        text-align: right;\n",
              "    }\n",
              "</style>\n",
              "<table border=\"1\" class=\"dataframe\">\n",
              "  <thead>\n",
              "    <tr style=\"text-align: right;\">\n",
              "      <th></th>\n",
              "      <th>Produto</th>\n",
              "      <th>Valor Unitário</th>\n",
              "      <th>Valor Final</th>\n",
              "    </tr>\n",
              "  </thead>\n",
              "  <tbody>\n",
              "    <tr>\n",
              "      <th>0</th>\n",
              "      <td>Sapato Estampa</td>\n",
              "      <td>358</td>\n",
              "      <td>358</td>\n",
              "    </tr>\n",
              "    <tr>\n",
              "      <th>1</th>\n",
              "      <td>Camiseta</td>\n",
              "      <td>180</td>\n",
              "      <td>360</td>\n",
              "    </tr>\n",
              "    <tr>\n",
              "      <th>2</th>\n",
              "      <td>Sapato Xadrez</td>\n",
              "      <td>368</td>\n",
              "      <td>368</td>\n",
              "    </tr>\n",
              "    <tr>\n",
              "      <th>26</th>\n",
              "      <td>Camisa Gola V Listrado</td>\n",
              "      <td>116</td>\n",
              "      <td>232</td>\n",
              "    </tr>\n",
              "    <tr>\n",
              "      <th>44</th>\n",
              "      <td>Sapato Listrado</td>\n",
              "      <td>363</td>\n",
              "      <td>363</td>\n",
              "    </tr>\n",
              "    <tr>\n",
              "      <th>...</th>\n",
              "      <td>...</td>\n",
              "      <td>...</td>\n",
              "      <td>...</td>\n",
              "    </tr>\n",
              "    <tr>\n",
              "      <th>93745</th>\n",
              "      <td>Meia</td>\n",
              "      <td>30</td>\n",
              "      <td>120</td>\n",
              "    </tr>\n",
              "    <tr>\n",
              "      <th>93776</th>\n",
              "      <td>Tênis Xadrez</td>\n",
              "      <td>259</td>\n",
              "      <td>777</td>\n",
              "    </tr>\n",
              "    <tr>\n",
              "      <th>93880</th>\n",
              "      <td>Bermuda Liso</td>\n",
              "      <td>157</td>\n",
              "      <td>314</td>\n",
              "    </tr>\n",
              "    <tr>\n",
              "      <th>93881</th>\n",
              "      <td>Chinelo Xadrez</td>\n",
              "      <td>66</td>\n",
              "      <td>66</td>\n",
              "    </tr>\n",
              "    <tr>\n",
              "      <th>93882</th>\n",
              "      <td>Cinto Liso</td>\n",
              "      <td>209</td>\n",
              "      <td>209</td>\n",
              "    </tr>\n",
              "  </tbody>\n",
              "</table>\n",
              "<p>3722 rows × 3 columns</p>\n",
              "</div>"
            ],
            "text/plain": [
              "                      Produto  Valor Unitário  Valor Final\n",
              "0              Sapato Estampa             358          358\n",
              "1                    Camiseta             180          360\n",
              "2               Sapato Xadrez             368          368\n",
              "26     Camisa Gola V Listrado             116          232\n",
              "44            Sapato Listrado             363          363\n",
              "...                       ...             ...          ...\n",
              "93745                    Meia              30          120\n",
              "93776            Tênis Xadrez             259          777\n",
              "93880            Bermuda Liso             157          314\n",
              "93881          Chinelo Xadrez              66           66\n",
              "93882              Cinto Liso             209          209\n",
              "\n",
              "[3722 rows x 3 columns]"
            ]
          },
          "metadata": {
            "tags": []
          }
        }
      ]
    },
    {
      "cell_type": "code",
      "metadata": {
        "colab": {
          "base_uri": "https://localhost:8080/"
        },
        "id": "9QatMn8zmkBG",
        "outputId": "9c08ac6c-db5a-46df-8b98-609ded980bce"
      },
      "source": [
        "#Grabing specific value\n",
        "print(sales_df.loc[93745, 'Produto'])"
      ],
      "execution_count": null,
      "outputs": [
        {
          "output_type": "stream",
          "text": [
            "Meia\n"
          ],
          "name": "stdout"
        }
      ]
    },
    {
      "cell_type": "markdown",
      "metadata": {
        "id": "l71jgmqyp-O-"
      },
      "source": [
        "#Creating Columns\n",
        "There are two ways:\n",
        "- Throgh a existing one\n",
        "- A totally new column"
      ]
    },
    {
      "cell_type": "code",
      "metadata": {
        "id": "npgFYaI2qNAY"
      },
      "source": [
        "#Creating a new column based in another one\n",
        "sales_df['Comissão'] = sales_df['Valor Final'] * 0.5"
      ],
      "execution_count": null,
      "outputs": []
    },
    {
      "cell_type": "code",
      "metadata": {
        "colab": {
          "base_uri": "https://localhost:8080/",
          "height": 612
        },
        "id": "TaHcnrDOqsNF",
        "outputId": "3e424b9d-0365-4619-ad33-3ea0cc1251b9"
      },
      "source": [
        "#Creating from zero another column\n",
        "#':' SELECTS ALL THE ELEMENTS\n",
        "sales_df.loc[:, 'Impostos'] = sales_df['Valor Final'] * 0.0069\n",
        "display(sales_df)"
      ],
      "execution_count": null,
      "outputs": [
        {
          "output_type": "display_data",
          "data": {
            "text/html": [
              "<div>\n",
              "<style scoped>\n",
              "    .dataframe tbody tr th:only-of-type {\n",
              "        vertical-align: middle;\n",
              "    }\n",
              "\n",
              "    .dataframe tbody tr th {\n",
              "        vertical-align: top;\n",
              "    }\n",
              "\n",
              "    .dataframe thead th {\n",
              "        text-align: right;\n",
              "    }\n",
              "</style>\n",
              "<table border=\"1\" class=\"dataframe\">\n",
              "  <thead>\n",
              "    <tr style=\"text-align: right;\">\n",
              "      <th></th>\n",
              "      <th>Código Venda</th>\n",
              "      <th>Data</th>\n",
              "      <th>ID Loja</th>\n",
              "      <th>Produto</th>\n",
              "      <th>Quantidade</th>\n",
              "      <th>Valor Unitário</th>\n",
              "      <th>Valor Final</th>\n",
              "      <th>Comissão</th>\n",
              "      <th>Impostos</th>\n",
              "    </tr>\n",
              "  </thead>\n",
              "  <tbody>\n",
              "    <tr>\n",
              "      <th>0</th>\n",
              "      <td>1</td>\n",
              "      <td>2019-01-01</td>\n",
              "      <td>Iguatemi Esplanada</td>\n",
              "      <td>Sapato Estampa</td>\n",
              "      <td>1</td>\n",
              "      <td>358</td>\n",
              "      <td>358</td>\n",
              "      <td>179.0</td>\n",
              "      <td>2.4702</td>\n",
              "    </tr>\n",
              "    <tr>\n",
              "      <th>1</th>\n",
              "      <td>1</td>\n",
              "      <td>2019-01-01</td>\n",
              "      <td>Iguatemi Esplanada</td>\n",
              "      <td>Camiseta</td>\n",
              "      <td>2</td>\n",
              "      <td>180</td>\n",
              "      <td>360</td>\n",
              "      <td>180.0</td>\n",
              "      <td>2.4840</td>\n",
              "    </tr>\n",
              "    <tr>\n",
              "      <th>2</th>\n",
              "      <td>1</td>\n",
              "      <td>2019-01-01</td>\n",
              "      <td>Iguatemi Esplanada</td>\n",
              "      <td>Sapato Xadrez</td>\n",
              "      <td>1</td>\n",
              "      <td>368</td>\n",
              "      <td>368</td>\n",
              "      <td>184.0</td>\n",
              "      <td>2.5392</td>\n",
              "    </tr>\n",
              "    <tr>\n",
              "      <th>3</th>\n",
              "      <td>2</td>\n",
              "      <td>2019-01-02</td>\n",
              "      <td>Norte Shopping</td>\n",
              "      <td>Relógio</td>\n",
              "      <td>3</td>\n",
              "      <td>200</td>\n",
              "      <td>600</td>\n",
              "      <td>300.0</td>\n",
              "      <td>4.1400</td>\n",
              "    </tr>\n",
              "    <tr>\n",
              "      <th>4</th>\n",
              "      <td>2</td>\n",
              "      <td>2019-01-02</td>\n",
              "      <td>Norte Shopping</td>\n",
              "      <td>Chinelo Liso</td>\n",
              "      <td>1</td>\n",
              "      <td>71</td>\n",
              "      <td>71</td>\n",
              "      <td>35.5</td>\n",
              "      <td>0.4899</td>\n",
              "    </tr>\n",
              "    <tr>\n",
              "      <th>...</th>\n",
              "      <td>...</td>\n",
              "      <td>...</td>\n",
              "      <td>...</td>\n",
              "      <td>...</td>\n",
              "      <td>...</td>\n",
              "      <td>...</td>\n",
              "      <td>...</td>\n",
              "      <td>...</td>\n",
              "      <td>...</td>\n",
              "    </tr>\n",
              "    <tr>\n",
              "      <th>93905</th>\n",
              "      <td>65012</td>\n",
              "      <td>2019-11-30</td>\n",
              "      <td>Shopping Vila Velha</td>\n",
              "      <td>Mochila Xadrez</td>\n",
              "      <td>2</td>\n",
              "      <td>283</td>\n",
              "      <td>566</td>\n",
              "      <td>283.0</td>\n",
              "      <td>3.9054</td>\n",
              "    </tr>\n",
              "    <tr>\n",
              "      <th>93906</th>\n",
              "      <td>65013</td>\n",
              "      <td>2019-11-30</td>\n",
              "      <td>Ribeirão Shopping</td>\n",
              "      <td>Pulseira Listrado</td>\n",
              "      <td>2</td>\n",
              "      <td>79</td>\n",
              "      <td>158</td>\n",
              "      <td>79.0</td>\n",
              "      <td>1.0902</td>\n",
              "    </tr>\n",
              "    <tr>\n",
              "      <th>93907</th>\n",
              "      <td>65013</td>\n",
              "      <td>2019-11-30</td>\n",
              "      <td>Ribeirão Shopping</td>\n",
              "      <td>Cueca Listrado</td>\n",
              "      <td>3</td>\n",
              "      <td>67</td>\n",
              "      <td>201</td>\n",
              "      <td>100.5</td>\n",
              "      <td>1.3869</td>\n",
              "    </tr>\n",
              "    <tr>\n",
              "      <th>93908</th>\n",
              "      <td>65014</td>\n",
              "      <td>2019-11-30</td>\n",
              "      <td>Shopping Morumbi</td>\n",
              "      <td>Pulseira Linho</td>\n",
              "      <td>5</td>\n",
              "      <td>114</td>\n",
              "      <td>570</td>\n",
              "      <td>285.0</td>\n",
              "      <td>3.9330</td>\n",
              "    </tr>\n",
              "    <tr>\n",
              "      <th>93909</th>\n",
              "      <td>65014</td>\n",
              "      <td>2019-11-30</td>\n",
              "      <td>Shopping Morumbi</td>\n",
              "      <td>Casaco Xadrez</td>\n",
              "      <td>4</td>\n",
              "      <td>259</td>\n",
              "      <td>1036</td>\n",
              "      <td>518.0</td>\n",
              "      <td>7.1484</td>\n",
              "    </tr>\n",
              "  </tbody>\n",
              "</table>\n",
              "<p>93910 rows × 9 columns</p>\n",
              "</div>"
            ],
            "text/plain": [
              "       Código Venda       Data  ... Comissão Impostos\n",
              "0                 1 2019-01-01  ...    179.0   2.4702\n",
              "1                 1 2019-01-01  ...    180.0   2.4840\n",
              "2                 1 2019-01-01  ...    184.0   2.5392\n",
              "3                 2 2019-01-02  ...    300.0   4.1400\n",
              "4                 2 2019-01-02  ...     35.5   0.4899\n",
              "...             ...        ...  ...      ...      ...\n",
              "93905         65012 2019-11-30  ...    283.0   3.9054\n",
              "93906         65013 2019-11-30  ...     79.0   1.0902\n",
              "93907         65013 2019-11-30  ...    100.5   1.3869\n",
              "93908         65014 2019-11-30  ...    285.0   3.9330\n",
              "93909         65014 2019-11-30  ...    518.0   7.1484\n",
              "\n",
              "[93910 rows x 9 columns]"
            ]
          },
          "metadata": {
            "tags": []
          }
        }
      ]
    },
    {
      "cell_type": "markdown",
      "metadata": {
        "id": "O5DVgGnKslqg"
      },
      "source": [
        "#Creating Rows\n",
        "Ps.: DON'T RUN THE ADDITION ROWS CELL AGAIN. It will add more rows!"
      ]
    },
    {
      "cell_type": "code",
      "metadata": {
        "id": "RRc64Lg8skJc"
      },
      "source": [
        "#Adding deceber sales\n",
        "salesdec_df = pd.read_excel('Vendas - Dez.xlsx')\n",
        "sales_df = sales_df.append(salesdec_df)"
      ],
      "execution_count": null,
      "outputs": []
    },
    {
      "cell_type": "markdown",
      "metadata": {
        "id": "VFd8aq3YuaAg"
      },
      "source": [
        "#Deleting Rows n Columns\n",
        "Axis = 0: Removing Columns\n",
        "\n",
        "\n",
        "Axis = 1: Removing Rows"
      ]
    },
    {
      "cell_type": "code",
      "metadata": {
        "colab": {
          "base_uri": "https://localhost:8080/",
          "height": 612
        },
        "id": "iNmZEFYFueWX",
        "outputId": "95b566da-49b0-4266-898b-515d424c6312"
      },
      "source": [
        "sales_df = sales_df.drop('Comissão', axis = 1)\n",
        "sales_df = sales_df.drop(1, axis = 0)\n",
        "display(sales_df)"
      ],
      "execution_count": null,
      "outputs": [
        {
          "output_type": "display_data",
          "data": {
            "text/html": [
              "<div>\n",
              "<style scoped>\n",
              "    .dataframe tbody tr th:only-of-type {\n",
              "        vertical-align: middle;\n",
              "    }\n",
              "\n",
              "    .dataframe tbody tr th {\n",
              "        vertical-align: top;\n",
              "    }\n",
              "\n",
              "    .dataframe thead th {\n",
              "        text-align: right;\n",
              "    }\n",
              "</style>\n",
              "<table border=\"1\" class=\"dataframe\">\n",
              "  <thead>\n",
              "    <tr style=\"text-align: right;\">\n",
              "      <th></th>\n",
              "      <th>Código Venda</th>\n",
              "      <th>Data</th>\n",
              "      <th>ID Loja</th>\n",
              "      <th>Produto</th>\n",
              "      <th>Quantidade</th>\n",
              "      <th>Valor Unitário</th>\n",
              "      <th>Valor Final</th>\n",
              "      <th>Impostos</th>\n",
              "    </tr>\n",
              "  </thead>\n",
              "  <tbody>\n",
              "    <tr>\n",
              "      <th>0</th>\n",
              "      <td>1</td>\n",
              "      <td>2019-01-01</td>\n",
              "      <td>Iguatemi Esplanada</td>\n",
              "      <td>Sapato Estampa</td>\n",
              "      <td>1</td>\n",
              "      <td>358</td>\n",
              "      <td>358</td>\n",
              "      <td>2.4702</td>\n",
              "    </tr>\n",
              "    <tr>\n",
              "      <th>2</th>\n",
              "      <td>1</td>\n",
              "      <td>2019-01-01</td>\n",
              "      <td>Iguatemi Esplanada</td>\n",
              "      <td>Sapato Xadrez</td>\n",
              "      <td>1</td>\n",
              "      <td>368</td>\n",
              "      <td>368</td>\n",
              "      <td>2.5392</td>\n",
              "    </tr>\n",
              "    <tr>\n",
              "      <th>3</th>\n",
              "      <td>2</td>\n",
              "      <td>2019-01-02</td>\n",
              "      <td>Norte Shopping</td>\n",
              "      <td>Relógio</td>\n",
              "      <td>3</td>\n",
              "      <td>200</td>\n",
              "      <td>600</td>\n",
              "      <td>4.1400</td>\n",
              "    </tr>\n",
              "    <tr>\n",
              "      <th>4</th>\n",
              "      <td>2</td>\n",
              "      <td>2019-01-02</td>\n",
              "      <td>Norte Shopping</td>\n",
              "      <td>Chinelo Liso</td>\n",
              "      <td>1</td>\n",
              "      <td>71</td>\n",
              "      <td>71</td>\n",
              "      <td>0.4899</td>\n",
              "    </tr>\n",
              "    <tr>\n",
              "      <th>5</th>\n",
              "      <td>3</td>\n",
              "      <td>2019-01-02</td>\n",
              "      <td>Rio Mar Shopping Fortaleza</td>\n",
              "      <td>Cinto Linho</td>\n",
              "      <td>1</td>\n",
              "      <td>248</td>\n",
              "      <td>248</td>\n",
              "      <td>1.7112</td>\n",
              "    </tr>\n",
              "    <tr>\n",
              "      <th>...</th>\n",
              "      <td>...</td>\n",
              "      <td>...</td>\n",
              "      <td>...</td>\n",
              "      <td>...</td>\n",
              "      <td>...</td>\n",
              "      <td>...</td>\n",
              "      <td>...</td>\n",
              "      <td>...</td>\n",
              "    </tr>\n",
              "    <tr>\n",
              "      <th>7084</th>\n",
              "      <td>69996</td>\n",
              "      <td>2019-12-26</td>\n",
              "      <td>Center Shopping Uberlândia</td>\n",
              "      <td>Short Listrado</td>\n",
              "      <td>2</td>\n",
              "      <td>102</td>\n",
              "      <td>204</td>\n",
              "      <td>NaN</td>\n",
              "    </tr>\n",
              "    <tr>\n",
              "      <th>7085</th>\n",
              "      <td>69996</td>\n",
              "      <td>2019-12-26</td>\n",
              "      <td>Center Shopping Uberlândia</td>\n",
              "      <td>Mochila</td>\n",
              "      <td>4</td>\n",
              "      <td>270</td>\n",
              "      <td>1080</td>\n",
              "      <td>NaN</td>\n",
              "    </tr>\n",
              "    <tr>\n",
              "      <th>7086</th>\n",
              "      <td>69996</td>\n",
              "      <td>2019-12-26</td>\n",
              "      <td>Center Shopping Uberlândia</td>\n",
              "      <td>Pulseira Estampa</td>\n",
              "      <td>1</td>\n",
              "      <td>87</td>\n",
              "      <td>87</td>\n",
              "      <td>NaN</td>\n",
              "    </tr>\n",
              "    <tr>\n",
              "      <th>7087</th>\n",
              "      <td>69997</td>\n",
              "      <td>2019-12-26</td>\n",
              "      <td>Ribeirão Shopping</td>\n",
              "      <td>Camisa Listrado</td>\n",
              "      <td>1</td>\n",
              "      <td>108</td>\n",
              "      <td>108</td>\n",
              "      <td>NaN</td>\n",
              "    </tr>\n",
              "    <tr>\n",
              "      <th>7088</th>\n",
              "      <td>69997</td>\n",
              "      <td>2019-12-26</td>\n",
              "      <td>Ribeirão Shopping</td>\n",
              "      <td>Short Linho</td>\n",
              "      <td>2</td>\n",
              "      <td>133</td>\n",
              "      <td>266</td>\n",
              "      <td>NaN</td>\n",
              "    </tr>\n",
              "  </tbody>\n",
              "</table>\n",
              "<p>100997 rows × 8 columns</p>\n",
              "</div>"
            ],
            "text/plain": [
              "      Código Venda       Data  ... Valor Final Impostos\n",
              "0                1 2019-01-01  ...         358   2.4702\n",
              "2                1 2019-01-01  ...         368   2.5392\n",
              "3                2 2019-01-02  ...         600   4.1400\n",
              "4                2 2019-01-02  ...          71   0.4899\n",
              "5                3 2019-01-02  ...         248   1.7112\n",
              "...            ...        ...  ...         ...      ...\n",
              "7084         69996 2019-12-26  ...         204      NaN\n",
              "7085         69996 2019-12-26  ...        1080      NaN\n",
              "7086         69996 2019-12-26  ...          87      NaN\n",
              "7087         69997 2019-12-26  ...         108      NaN\n",
              "7088         69997 2019-12-26  ...         266      NaN\n",
              "\n",
              "[100997 rows x 8 columns]"
            ]
          },
          "metadata": {
            "tags": []
          }
        }
      ]
    },
    {
      "cell_type": "markdown",
      "metadata": {
        "id": "Y4gBNx9rhC7s"
      },
      "source": [
        "#Deleting Empty Values"
      ]
    },
    {
      "cell_type": "code",
      "metadata": {
        "id": "Uq1zParFwHTX"
      },
      "source": [
        "#Here we can add ,axis to remove only columns or rows\n",
        "sales_df = sales_df.dropna(how = 'all')\n",
        "\n",
        "#Deleting rows that has AT LEAST 1 empty value\n",
        "sales_df = sales_df.dropna()"
      ],
      "execution_count": null,
      "outputs": []
    },
    {
      "cell_type": "markdown",
      "metadata": {
        "id": "Q7lWYbD7h7wN"
      },
      "source": [
        "#Filling Empty Values"
      ]
    },
    {
      "cell_type": "code",
      "metadata": {
        "id": "-RuosNGaiAtc"
      },
      "source": [
        "#filling with the mean\n",
        "#To fill with a specific value, just use .fillna(value)\n",
        "sales_df['Impostos'] = sales_df['Impostos'].fillna(sales_df['Impostos'].mean())\n",
        "display(sales_df)\n",
        "\n",
        "#Filling with FIRST/LAST values\n",
        "sales_df = sales_df.ffill()"
      ],
      "execution_count": null,
      "outputs": []
    },
    {
      "cell_type": "markdown",
      "metadata": {
        "id": "AErLPk0aktfx"
      },
      "source": [
        "#Other Methods"
      ]
    },
    {
      "cell_type": "code",
      "metadata": {
        "id": "KMrbvjRhj0_-"
      },
      "source": [
        "sales_by_id = sales_df['ID Loja'].value_counts()\n",
        "display(sales_by_id)"
      ],
      "execution_count": null,
      "outputs": []
    },
    {
      "cell_type": "code",
      "metadata": {
        "id": "ImU6yc-2vo6q"
      },
      "source": [
        "sell_by_prod = sales_df[['Produto', 'Valor Final']].groupby('Produto').sum()\n",
        "display(sell_by_prod)"
      ],
      "execution_count": null,
      "outputs": []
    },
    {
      "cell_type": "markdown",
      "metadata": {
        "id": "eGiOcSrMyPeK"
      },
      "source": [
        "#Merging DataFrames!"
      ]
    },
    {
      "cell_type": "code",
      "metadata": {
        "id": "Sl8yaveRyyYz"
      },
      "source": [
        "managers_df = pd.read_excel('/Gerentes.xlsx')\n",
        "sales_df = sales_df.merge(managers_df)\n",
        "display(vendas_df)"
      ],
      "execution_count": null,
      "outputs": []
    }
  ]
}